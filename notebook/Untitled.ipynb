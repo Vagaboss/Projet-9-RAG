{
 "cells": [
  {
   "cell_type": "code",
   "execution_count": 2,
   "id": "196f78e5-6e86-4438-9ef0-2b28fb70c21c",
   "metadata": {},
   "outputs": [],
   "source": [
    "import pandas as pd\n",
    "import numpy"
   ]
  },
  {
   "cell_type": "code",
   "execution_count": 5,
   "id": "d0166cdd-c05a-47a8-b8fe-d039a1edb884",
   "metadata": {},
   "outputs": [],
   "source": [
    "open_event = pd.read_csv('evenements-publics-openagenda.csv', sep=';')  "
   ]
  },
  {
   "cell_type": "code",
   "execution_count": 12,
   "id": "78b12f04-86d0-4ac5-bdc6-8b1e16eebc44",
   "metadata": {
    "scrolled": true
   },
   "outputs": [],
   "source": [
    "openeve = open_event.isna().mean()"
   ]
  },
  {
   "cell_type": "code",
   "execution_count": 14,
   "id": "1ccf1e4e-e6da-40fb-b103-d065042e3e5b",
   "metadata": {
    "scrolled": true
   },
   "outputs": [
    {
     "data": {
      "text/plain": [
       "Contributeur: organisation        1.000000\n",
       "Contributeur: Téléphone           1.000000\n",
       "Contributeur: Email               1.000000\n",
       "Contributeur: Fonction            1.000000\n",
       "Contributeur: Nom                 1.000000\n",
       "Catégorie                         1.000000\n",
       "Lien d'accès en ligne             0.981777\n",
       "Age minimum                       0.913440\n",
       "Age maximum                       0.882916\n",
       "Liens additionnels                0.832802\n",
       "Mots clés                         0.828702\n",
       "Liens du lieu                     0.821868\n",
       "Code d'accessibilité              0.686105\n",
       "Accessibilité                     0.686105\n",
       "Registration                      0.599544\n",
       "Crédits de l'image du lieu        0.584510\n",
       "Accès / Itinéraire                0.558542\n",
       "Image du lieu                     0.552620\n",
       "Téléphone du lieu                 0.520273\n",
       "Description du lieu               0.463326\n",
       "Site web du lieu                  0.431891\n",
       "Détail des conditions             0.421868\n",
       "Tags du lieu                      0.310706\n",
       "Crédits image                     0.142141\n",
       "Département                       0.091116\n",
       "Arrondissement                    0.057859\n",
       "Aperçu                            0.038724\n",
       "Image source                      0.038724\n",
       "Image                             0.037358\n",
       "Description longue                0.028702\n",
       "Code postal                       0.007289\n",
       "Code INSEE                        0.005923\n",
       "Titre                             0.001822\n",
       "Description                       0.001822\n",
       "Région                            0.001822\n",
       "Résumé horaires                   0.000000\n",
       "URL canonique                     0.000000\n",
       "Dernière mise à jour              0.000000\n",
       "Identifiant                       0.000000\n",
       "Slug                              0.000000\n",
       "Nom du lieu                       0.000000\n",
       "Coordonnées géographiques         0.000000\n",
       "Identifiant du lieu               0.000000\n",
       "Horaires détaillés                0.000000\n",
       "Dernière date - Début             0.000000\n",
       "Dernière date - Fin               0.000000\n",
       "Première date - Début             0.000000\n",
       "Première date - Fin               0.000000\n",
       "Ville                             0.000000\n",
       "Adresse                           0.000000\n",
       "Pays                              0.000000\n",
       "État de l'événement               0.000000\n",
       "Agenda d'origine (uid)            0.000000\n",
       "Agenda d'origine (titre)          0.000000\n",
       "Événement physique ou en ligne    0.000000\n",
       "Nom du pays                       0.000000\n",
       "dtype: float64"
      ]
     },
     "execution_count": 14,
     "metadata": {},
     "output_type": "execute_result"
    }
   ],
   "source": [
    "openeve.sort_values(ascending = False)"
   ]
  },
  {
   "cell_type": "code",
   "execution_count": 12,
   "id": "f95635d2-b764-4c47-95ab-be5d20406530",
   "metadata": {},
   "outputs": [],
   "source": [
    "event_clean = pd.read_csv(\"data/events_clean.csv\")"
   ]
  },
  {
   "cell_type": "code",
   "execution_count": 11,
   "id": "c70a70ef-643d-47f7-a5e3-b4413a8221d7",
   "metadata": {},
   "outputs": [
    {
     "name": "stdout",
     "output_type": "stream",
     "text": [
      "C:\\Users\\yacin\\Desktop\\DATA SCIENCE OPENCLASSROOMS\\Projet 9 RAG\n"
     ]
    }
   ],
   "source": [
    "import os\n",
    "print(os.getcwd())"
   ]
  },
  {
   "cell_type": "code",
   "execution_count": 10,
   "id": "b78828c2-0696-4938-9777-8320c537b0b5",
   "metadata": {},
   "outputs": [],
   "source": [
    "import os\n",
    "os.chdir(\"..\")  # remonter d’un dossier"
   ]
  },
  {
   "cell_type": "code",
   "execution_count": 14,
   "id": "c257ec07-561a-4069-ba60-1f8eb9013c9e",
   "metadata": {},
   "outputs": [
    {
     "data": {
      "text/plain": [
       "id                  0.000000\n",
       "title               0.001822\n",
       "description         0.001822\n",
       "long_description    0.028702\n",
       "keywords            0.828702\n",
       "city                0.000000\n",
       "region              0.001822\n",
       "country             0.000000\n",
       "address             0.000000\n",
       "coordinates         0.000000\n",
       "date_start          0.000000\n",
       "date_end            0.000000\n",
       "url                 0.000000\n",
       "dtype: float64"
      ]
     },
     "execution_count": 14,
     "metadata": {},
     "output_type": "execute_result"
    }
   ],
   "source": [
    "event_clean.isna().mean()"
   ]
  },
  {
   "cell_type": "code",
   "execution_count": 15,
   "id": "d2819f77-70f0-41e4-bd2b-11e90233f1bd",
   "metadata": {},
   "outputs": [
    {
     "name": "stdout",
     "output_type": "stream",
     "text": [
      "id                  0.0\n",
      "title               0.0\n",
      "description         0.0\n",
      "long_description    0.0\n",
      "keywords            0.0\n",
      "city                0.0\n",
      "region              0.0\n",
      "country             0.0\n",
      "address             0.0\n",
      "coordinates         0.0\n",
      "date_start          0.0\n",
      "date_end            0.0\n",
      "url                 0.0\n",
      "dtype: float64\n"
     ]
    }
   ],
   "source": [
    "# Remplacer valeurs manquantes simples\n",
    "event_clean[\"title\"] = event_clean[\"title\"].fillna(\"Titre manquant\")\n",
    "event_clean[\"description\"] = event_clean[\"description\"].fillna(\"Description manquante\")\n",
    "\n",
    "# Si la long_description est vide, fallback sur description\n",
    "event_clean[\"long_description\"] = event_clean[\"long_description\"].fillna(event_clean[\"description\"])\n",
    "\n",
    "# Région : par défaut \"Île-de-France\" (puisque tous tes événements sont à Paris)\n",
    "event_clean[\"region\"] = event_clean[\"region\"].fillna(\"Île-de-France\")\n",
    "\n",
    "# Keywords : si manquant, remplacer par liste vide (sous forme de texte ici)\n",
    "event_clean[\"keywords\"] = event_clean[\"keywords\"].fillna(\"[]\")\n",
    "\n",
    "# Vérifier après nettoyage\n",
    "print(event_clean.isna().mean())"
   ]
  }
 ],
 "metadata": {
  "kernelspec": {
   "display_name": "Python 3 (ipykernel)",
   "language": "python",
   "name": "python3"
  },
  "language_info": {
   "codemirror_mode": {
    "name": "ipython",
    "version": 3
   },
   "file_extension": ".py",
   "mimetype": "text/x-python",
   "name": "python",
   "nbconvert_exporter": "python",
   "pygments_lexer": "ipython3",
   "version": "3.13.3"
  }
 },
 "nbformat": 4,
 "nbformat_minor": 5
}
